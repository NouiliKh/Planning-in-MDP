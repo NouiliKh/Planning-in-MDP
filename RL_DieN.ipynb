{
 "cells": [
  {
   "cell_type": "markdown",
   "metadata": {},
   "source": [
    "## Test cases\n",
    "\n",
    "We have provided some test cases for you to help verify your implementation."
   ]
  },
  {
   "cell_type": "code",
   "execution_count": 596,
   "metadata": {},
   "outputs": [],
   "source": [
    "\n",
    "import numpy as np\n",
    "\n",
    "class MDPAgent(object):\n",
    "    def __init__(self):\n",
    "        pass\n",
    "    \n",
    "    def getMDPEnv(self, is_bad_side):\n",
    "        N = len(is_bad_side)\n",
    "        is_bad_side = np.array(is_bad_side)\n",
    "        good_sides = (np.where(is_bad_side == 0)[0] + 1).tolist()\n",
    "        states =  good_sides\n",
    "        is_all_zero = np.all((is_bad_side == 0))\n",
    "        k = []\n",
    "        for i in states:\n",
    "            for j in states:\n",
    "                k += [i + j]\n",
    "        states = np.unique(sorted( states + k )).tolist()\n",
    "        good_sides_second_roll = states\n",
    "\n",
    "        k = []\n",
    "        for i in states:\n",
    "            for j in states:\n",
    "                k += [i + j]\n",
    "        \n",
    "        states = np.unique(sorted([0] + states + k + [99])).tolist()\n",
    "    \n",
    "        num_state = len(states)\n",
    "\n",
    "        transition_prob = np.zeros([2, num_state, num_state])\n",
    "        reward_prob = np.zeros([2, num_state, num_state])\n",
    "        # Roll Action transition\n",
    "        for i in range(len(states)):\n",
    "            terminal_prob  = 1\n",
    "            sum_prob = 0\n",
    "            for j in range(len(states)):\n",
    "                if (states[j]-states[i] in good_sides):\n",
    "                    transition_prob[0][i][j] = 1/N\n",
    "                    reward_prob[0][i][j] = states[j]-states[i]\n",
    "                    sum_prob += 1/N            \n",
    "                    \n",
    "            transition_prob[0][i][-1] = 1 - sum_prob\n",
    "            reward_prob[0][i][-1] =  -states[i] if not is_all_zero else 0 \n",
    "        \n",
    "        reward_prob[0][-1][-1] =  0\n",
    "        # Quit action transition\n",
    "        transition_prob[1] = np.identity(num_state)   \n",
    "        reward_prob[1] = np.zeros(num_state)\n",
    "        return transition_prob, reward_prob\n",
    "\n",
    "        \n",
    "    def valueIteration(self, transition_prob, reward_prob):\n",
    "        num_state = len(transition_prob[1])\n",
    "\n",
    "        v = np.empty(num_state)\n",
    "        \n",
    "        reward_transition_prob = np.zeros([2, num_state])\n",
    "        reward_transition_prob[0] = (reward_prob[0] * transition_prob[0]).sum(1)\n",
    "        reward_transition_prob[1] = (reward_prob[1] * transition_prob[1]).sum(1)\n",
    "        \n",
    "        policy = np.empty((2, num_state))\n",
    "        i = -1\n",
    "        while True:\n",
    "            i += 1\n",
    "            old_v = v.copy()\n",
    "            policy[0] = reward_transition_prob[0] + transition_prob[0].dot(v)\n",
    "            policy[1] = reward_transition_prob[1] + transition_prob[1].dot(v)\n",
    "\n",
    "            v = policy.max(axis=0)\n",
    "            \n",
    "            delta =  (v - old_v).max() - (v - old_v).min()\n",
    "            if (delta < 0.00000001 and i != 0) or (i > 200000000000):\n",
    "                return v\n",
    "        \n",
    "\n",
    "    def solve(self, is_bad_side):\n",
    "        \"\"\"Implement the agent\"\"\"\n",
    "        is_bad_side = np.array(is_bad_side)\n",
    "\n",
    "        # Defining MDP\n",
    "        transition_prob, reward_prob = self.getMDPEnv(is_bad_side)\n",
    "        value_prob  = self.valueIteration(transition_prob, reward_prob)\n",
    "        print(value_prob[0])\n",
    "        return value_prob[0]\n"
   ]
  },
  {
   "cell_type": "code",
   "execution_count": 597,
   "metadata": {},
   "outputs": [
    {
     "name": "stdout",
     "output_type": "stream",
     "text": [
      "81.31357923357321\n"
     ]
    },
    {
     "data": {
      "text/plain": [
       "81.31357923357321"
      ]
     },
     "execution_count": 597,
     "metadata": {},
     "output_type": "execute_result"
    }
   ],
   "source": [
    "agent = MDPAgent()\n",
    "agent.solve([0, 0, 0, 0, 0, 0, 0, 0, 0, 0, 0, 0, 0, 0, 0, 1, 0, 0, 0, 0, 0, 0, 0, 0, 0, 0, 0, 0, 0, 0])"
   ]
  },
  {
   "cell_type": "code",
   "execution_count": null,
   "metadata": {},
   "outputs": [],
   "source": []
  }
 ],
 "metadata": {
  "kernelspec": {
   "display_name": "Python 3",
   "language": "python",
   "name": "python3"
  },
  "language_info": {
   "codemirror_mode": {
    "name": "ipython",
    "version": 3
   },
   "file_extension": ".py",
   "mimetype": "text/x-python",
   "name": "python",
   "nbconvert_exporter": "python",
   "pygments_lexer": "ipython3",
   "version": "3.6.9"
  },
  "pycharm": {
   "stem_cell": {
    "cell_type": "raw",
    "metadata": {
     "collapsed": false
    },
    "source": []
   }
  }
 },
 "nbformat": 4,
 "nbformat_minor": 1
}